{
 "cells": [
  {
   "cell_type": "code",
   "execution_count": 71,
   "metadata": {
    "collapsed": true
   },
   "outputs": [],
   "source": [
    "import pandas as pd\n",
    "import requests\n",
    "from datetime import datetime\n",
    "import folium\n",
    "from IPython.display import IFrame\n",
    "from flask import Flask, render_template"
   ]
  },
  {
   "cell_type": "code",
   "execution_count": 72,
   "outputs": [],
   "source": [
    "country_geo = 'world-countries.json'\n",
    "re = requests.get(\"https://corona.lmao.ninja/v2/countries?yesterday&sort\")\n",
    "re = re.json()\n",
    "re = pd.DataFrame.from_dict(re)\n",
    "country_info = re['countryInfo']\n",
    "country_info = pd.json_normalize(country_info)\n",
    "df = pd.concat([re, country_info], axis=1,sort=False)\n",
    "df = df.drop('countryInfo', axis=1)\n",
    "pd.options.display.float_format = '{:, .2f}'.format"
   ],
   "metadata": {
    "collapsed": false,
    "pycharm": {
     "name": "#%%\n"
    }
   }
  },
  {
   "cell_type": "code",
   "execution_count": 73,
   "outputs": [
    {
     "name": "stdout",
     "output_type": "stream",
     "text": [
      "                  cases\n",
      "country                \n",
      "USA           5,649,808\n",
      "Brazil        3,407,354\n",
      "India         2,766,626\n",
      "Russia          932,493\n",
      "South Africa    592,144\n",
      "Peru            541,493\n",
      "Mexico          525,733\n",
      "Colombia        489,122\n",
      "Chile           388,855\n",
      "Spain           384,270\n"
     ]
    }
   ],
   "source": [
    "def top_ten_countries(n=10):\n",
    "    by_country = df.groupby('country').sum()[['cases']]\n",
    "    top_ten = by_country.nlargest(n, 'cases')[['cases']]\n",
    "    top_ten['cases'] = top_ten['cases'].apply(lambda x: \"{:,}\".format(x))\n",
    "    return top_ten\n",
    "\n",
    "d = top_ten_countries()\n",
    "print(d)"
   ],
   "metadata": {
    "collapsed": false,
    "pycharm": {
     "name": "#%%\n"
    }
   }
  },
  {
   "cell_type": "code",
   "execution_count": 74,
   "outputs": [],
   "source": [
    "def convert_time_stamp(x):\n",
    "    t = datetime.fromtimestamp(x/1000.0)\n",
    "    s = t.strftime('%Y-%m-%d %H:%M:%S')\n",
    "    return s[:-3]\n",
    "df['updated'] = df['updated'].apply(convert_time_stamp)"
   ],
   "metadata": {
    "collapsed": false,
    "pycharm": {
     "name": "#%%\n"
    }
   }
  },
  {
   "cell_type": "code",
   "execution_count": 75,
   "outputs": [
    {
     "name": "stdout",
     "output_type": "stream",
     "text": [
      "country: Angola\n",
      "\n"
     ]
    },
    {
     "ename": "AttributeError",
     "evalue": "'builtin_function_or_method' object has no attribute 'values'",
     "output_type": "error",
     "traceback": [
      "\u001B[0;31m---------------------------------------------------------------------------\u001B[0m",
      "\u001B[0;31mAttributeError\u001B[0m                            Traceback (most recent call last)",
      "\u001B[0;32m<ipython-input-75-f455da5c7668>\u001B[0m in \u001B[0;36m<module>\u001B[0;34m\u001B[0m\n\u001B[1;32m      9\u001B[0m     \u001B[0;32mif\u001B[0m \u001B[0mkey\u001B[0m \u001B[0;32min\u001B[0m \u001B[0mmy_list\u001B[0m\u001B[0;34m:\u001B[0m\u001B[0;34m\u001B[0m\u001B[0;34m\u001B[0m\u001B[0m\n\u001B[1;32m     10\u001B[0m         \u001B[0mprint\u001B[0m\u001B[0;34m(\u001B[0m\u001B[0mkey\u001B[0m \u001B[0;34m+\u001B[0m\u001B[0;34m': '\u001B[0m\u001B[0;34m+\u001B[0m \u001B[0mstr\u001B[0m\u001B[0;34m(\u001B[0m\u001B[0mvalue\u001B[0m\u001B[0;34m.\u001B[0m\u001B[0mvalues\u001B[0m\u001B[0;34m[\u001B[0m\u001B[0;36m0\u001B[0m\u001B[0;34m]\u001B[0m\u001B[0;34m)\u001B[0m \u001B[0;34m+\u001B[0m\u001B[0;34m'\\n'\u001B[0m\u001B[0;34m)\u001B[0m\u001B[0;34m\u001B[0m\u001B[0;34m\u001B[0m\u001B[0m\n\u001B[0;32m---> 11\u001B[0;31m         \u001B[0mprint\u001B[0m\u001B[0;34m(\u001B[0m\u001B[0mkey\u001B[0m\u001B[0;34m.\u001B[0m\u001B[0mindex\u001B[0m\u001B[0;34m.\u001B[0m\u001B[0mvalues\u001B[0m\u001B[0;34m[\u001B[0m\u001B[0;36m0\u001B[0m\u001B[0;34m]\u001B[0m\u001B[0;34m)\u001B[0m\u001B[0;34m\u001B[0m\u001B[0;34m\u001B[0m\u001B[0m\n\u001B[0m\u001B[1;32m     12\u001B[0m \u001B[0;34m\u001B[0m\u001B[0m\n",
      "\u001B[0;31mAttributeError\u001B[0m: 'builtin_function_or_method' object has no attribute 'values'"
     ]
    }
   ],
   "source": [
    "df['recovered'] = df['recovered'].apply(lambda x: \"{:,}\".format(x))\n",
    "df['cases'] = df['cases'].apply(lambda x: \"{:,}\".format(x))\n",
    "df['deaths'] = df['deaths'].apply(lambda x: \"{:,}\".format(x))\n",
    "\n",
    "t = df[df['country'] == 'Angola']\n",
    "new_dict = {}\n",
    "my_list = ['country', 'cases']\n",
    "for key, value in t.iteritems():\n",
    "    if key in my_list:\n",
    "        print(key +': '+ str(value.values[0]) +'\\n')\n",
    "        print(value.index.values[0])"
   ],
   "metadata": {
    "collapsed": false,
    "pycharm": {
     "name": "#%%\n"
    }
   }
  },
  {
   "cell_type": "code",
   "execution_count": null,
   "outputs": [],
   "source": [
    "m = folium.Map(\n",
    "    location=[100, 0],\n",
    "    zoom_start=1.5,\n",
    ")"
   ],
   "metadata": {
    "collapsed": false,
    "pycharm": {
     "name": "#%%\n"
    }
   }
  },
  {
   "cell_type": "code",
   "execution_count": null,
   "outputs": [],
   "source": [
    "folium.Choropleth (\n",
    "    geo_data= country_geo,\n",
    "    data=df,\n",
    "    columns=['lat', 'long'],\n",
    "    key_on='feature.id',\n",
    "    fill_color='YlGnBu',\n",
    "    fill_opacity=0.7,\n",
    "    line_opacity=0.2,\n",
    "    legend_name='Covid Analysis'\n",
    ").add_to(m)"
   ],
   "metadata": {
    "collapsed": false,
    "pycharm": {
     "name": "#%%\n"
    }
   }
  },
  {
   "cell_type": "code",
   "execution_count": null,
   "outputs": [],
   "source": [
    "def circle_maker(x):\n",
    "    folium.Circle(location=[x[0],x[1]],\n",
    "                 radius=10,\n",
    "                 color=\"red\",\n",
    "                 popup='{}\\n Cases: {}\\n Deaths: {}\\n Recovered: {}'.format(x[2], x[3], x[4], x[5])).add_to(m)\n",
    "df[['lat','long','country','cases','deaths', 'recovered']].apply(lambda x:circle_maker(x),axis=1)\n",
    "html_map = m._repr_html_()"
   ],
   "metadata": {
    "collapsed": false,
    "pycharm": {
     "name": "#%%\n"
    }
   }
  },
  {
   "cell_type": "code",
   "execution_count": null,
   "outputs": [],
   "source": [
    "IFrame(src=m, width=450, height=450)\n",
    "folium.Popup(src=m, max_width=1000)"
   ],
   "metadata": {
    "collapsed": false,
    "pycharm": {
     "name": "#%%\n"
    }
   }
  },
  {
   "cell_type": "code",
   "execution_count": null,
   "outputs": [],
   "source": [
    "app = Flask(__name__)\n",
    "\n",
    "@app.route('/')\n",
    "def home():\n",
    "    return render_template(\"home.html\", cmap=html_map)\n",
    "\n",
    "@app.route('/about')\n",
    "def about():\n",
    "    return render_template(\"about.html\")\n",
    "\n",
    "if __name__ == \"__main__\":\n",
    "    app.run(debug=True)\n"
   ],
   "metadata": {
    "collapsed": false,
    "pycharm": {
     "name": "#%%\n"
    }
   }
  }
 ],
 "metadata": {
  "kernelspec": {
   "display_name": "Python 3",
   "language": "python",
   "name": "python3"
  },
  "language_info": {
   "codemirror_mode": {
    "name": "ipython",
    "version": 2
   },
   "file_extension": ".py",
   "mimetype": "text/x-python",
   "name": "python",
   "nbconvert_exporter": "python",
   "pygments_lexer": "ipython2",
   "version": "2.7.6"
  }
 },
 "nbformat": 4,
 "nbformat_minor": 0
}