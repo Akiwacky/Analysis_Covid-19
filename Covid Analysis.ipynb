{
 "cells": [
  {
   "cell_type": "code",
   "execution_count": 18,
   "metadata": {
    "collapsed": true
   },
   "outputs": [],
   "source": [
    "import pandas as pd\n",
    "import requests\n",
    "import folium\n",
    "from IPython.display import IFrame"
   ]
  },
  {
   "cell_type": "code",
   "execution_count": 19,
   "outputs": [],
   "source": [
    "country_geo = 'world-countries.json'\n",
    "re = requests.get(\"https://corona.lmao.ninja/v2/countries?yesterday&sort\")\n",
    "re = re.json()\n",
    "re = pd.DataFrame.from_dict(re)\n",
    "pd.set_option('display.max_columns', None)\n",
    "country_info = re['countryInfo']\n",
    "country_info = pd.json_normalize(country_info)\n",
    "df = pd.concat([re, country_info], axis=1,sort=False)\n",
    "df = df.drop('countryInfo', axis=1)"
   ],
   "metadata": {
    "collapsed": false,
    "pycharm": {
     "name": "#%%\n"
    }
   }
  },
  {
   "cell_type": "code",
   "execution_count": 20,
   "outputs": [],
   "source": [
    "def thousand_separator(val):\n",
    "    return f\"{val:,}\"\n",
    "\n",
    "df['recovered'] = df['recovered'].apply(thousand_separator)\n",
    "df['cases'] = df['cases'].apply(thousand_separator)\n",
    "df['deaths'] = df['deaths'].apply(thousand_separator)\n"
   ],
   "metadata": {
    "collapsed": false,
    "pycharm": {
     "name": "#%%\n"
    }
   }
  },
  {
   "cell_type": "code",
   "execution_count": 21,
   "outputs": [],
   "source": [
    "m = folium.Map(\n",
    "    location=[100, 0],\n",
    "    zoom_start=1.5,\n",
    ")"
   ],
   "metadata": {
    "collapsed": false,
    "pycharm": {
     "name": "#%%\n"
    }
   }
  },
  {
   "cell_type": "code",
   "execution_count": 22,
   "outputs": [
    {
     "data": {
      "text/plain": "<folium.features.Choropleth at 0x7fd2bdbdc220>"
     },
     "execution_count": 22,
     "metadata": {},
     "output_type": "execute_result"
    }
   ],
   "source": [
    "folium.Choropleth (\n",
    "    geo_data= country_geo,\n",
    "    data=df,\n",
    "    columns=['lat', 'long'],\n",
    "    key_on='feature.id',\n",
    "    fill_color='YlGnBu',\n",
    "    fill_opacity=0.7,\n",
    "    line_opacity=0.2,\n",
    "    legend_name='Covid 19 Analysis'\n",
    ").add_to(m)"
   ],
   "metadata": {
    "collapsed": false,
    "pycharm": {
     "name": "#%%\n"
    }
   }
  },
  {
   "cell_type": "code",
   "execution_count": 23,
   "outputs": [],
   "source": [
    "def circle_maker(x):\n",
    "    folium.Circle(location=[x[0],x[1]],\n",
    "                 radius=10,\n",
    "                 color=\"red\",\n",
    "                 popup='{}\\n Cases: {}\\n Deaths: {}\\n Recovered: {}'.format(x[2], x[3], x[4], x[5])).add_to(m)\n",
    "df[['lat','long','country','cases','deaths', 'recovered']].apply(lambda x:circle_maker(x),axis=1)\n",
    "m.save('covid_data.html')"
   ],
   "metadata": {
    "collapsed": false,
    "pycharm": {
     "name": "#%%\n"
    }
   }
  },
  {
   "cell_type": "code",
   "execution_count": 24,
   "outputs": [
    {
     "data": {
      "text/plain": "<folium.map.Popup at 0x7fd2bdbd2820>"
     },
     "execution_count": 24,
     "metadata": {},
     "output_type": "execute_result"
    }
   ],
   "source": [
    "IFrame(src=m, width=450, height=450)\n",
    "folium.Popup(src=m, max_width=1000)"
   ],
   "metadata": {
    "collapsed": false,
    "pycharm": {
     "name": "#%%\n"
    }
   }
  }
 ],
 "metadata": {
  "kernelspec": {
   "display_name": "Python 3",
   "language": "python",
   "name": "python3"
  },
  "language_info": {
   "codemirror_mode": {
    "name": "ipython",
    "version": 2
   },
   "file_extension": ".py",
   "mimetype": "text/x-python",
   "name": "python",
   "nbconvert_exporter": "python",
   "pygments_lexer": "ipython2",
   "version": "2.7.6"
  }
 },
 "nbformat": 4,
 "nbformat_minor": 0
}